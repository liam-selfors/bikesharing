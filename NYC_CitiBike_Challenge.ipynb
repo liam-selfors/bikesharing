{
 "cells": [
  {
   "cell_type": "code",
   "execution_count": 1,
   "metadata": {},
   "outputs": [],
   "source": [
    "import pandas as pd"
   ]
  },
  {
   "cell_type": "code",
   "execution_count": 2,
   "metadata": {},
   "outputs": [],
   "source": [
    "# 1. Create a DataFrame for the 201908-citibike-tripdata data. \n",
    "df = pd.read_csv('Datasources/201908-citibike-tripdata.csv')"
   ]
  },
  {
   "cell_type": "code",
   "execution_count": 8,
   "metadata": {},
   "outputs": [
    {
     "data": {
      "text/html": [
       "<div>\n",
       "<style scoped>\n",
       "    .dataframe tbody tr th:only-of-type {\n",
       "        vertical-align: middle;\n",
       "    }\n",
       "\n",
       "    .dataframe tbody tr th {\n",
       "        vertical-align: top;\n",
       "    }\n",
       "\n",
       "    .dataframe thead th {\n",
       "        text-align: right;\n",
       "    }\n",
       "</style>\n",
       "<table border=\"1\" class=\"dataframe\">\n",
       "  <thead>\n",
       "    <tr style=\"text-align: right;\">\n",
       "      <th></th>\n",
       "      <th>tripduration</th>\n",
       "      <th>starttime</th>\n",
       "      <th>stoptime</th>\n",
       "      <th>start station id</th>\n",
       "      <th>start station name</th>\n",
       "      <th>start station latitude</th>\n",
       "      <th>start station longitude</th>\n",
       "      <th>end station id</th>\n",
       "      <th>end station name</th>\n",
       "      <th>end station latitude</th>\n",
       "      <th>end station longitude</th>\n",
       "      <th>bikeid</th>\n",
       "      <th>usertype</th>\n",
       "      <th>birth year</th>\n",
       "      <th>gender</th>\n",
       "    </tr>\n",
       "  </thead>\n",
       "  <tbody>\n",
       "    <tr>\n",
       "      <th>189706</th>\n",
       "      <td>3812666</td>\n",
       "      <td>2019-08-03 11:31:37.2370</td>\n",
       "      <td>2019-09-16 14:36:03.3340</td>\n",
       "      <td>453.0</td>\n",
       "      <td>W 22 St &amp; 8 Ave</td>\n",
       "      <td>40.744751</td>\n",
       "      <td>-73.999154</td>\n",
       "      <td>3245.0</td>\n",
       "      <td>NYCBS DEPOT - DELANCEY</td>\n",
       "      <td>40.716444</td>\n",
       "      <td>-73.982331</td>\n",
       "      <td>39570</td>\n",
       "      <td>Customer</td>\n",
       "      <td>1996</td>\n",
       "      <td>2</td>\n",
       "    </tr>\n",
       "    <tr>\n",
       "      <th>385277</th>\n",
       "      <td>3341929</td>\n",
       "      <td>2019-08-05 19:53:13.6550</td>\n",
       "      <td>2019-09-13 12:12:02.9690</td>\n",
       "      <td>3349.0</td>\n",
       "      <td>Grand Army Plaza &amp; Plaza St West</td>\n",
       "      <td>40.672968</td>\n",
       "      <td>-73.970880</td>\n",
       "      <td>3585.0</td>\n",
       "      <td>Union St &amp; Bedford Ave</td>\n",
       "      <td>40.669178</td>\n",
       "      <td>-73.955416</td>\n",
       "      <td>17551</td>\n",
       "      <td>Customer</td>\n",
       "      <td>1995</td>\n",
       "      <td>2</td>\n",
       "    </tr>\n",
       "    <tr>\n",
       "      <th>397609</th>\n",
       "      <td>2704549</td>\n",
       "      <td>2019-08-06 02:43:44.4590</td>\n",
       "      <td>2019-09-06 09:59:33.9580</td>\n",
       "      <td>3511.0</td>\n",
       "      <td>Adam Clayton Powell Blvd &amp; W 115 St</td>\n",
       "      <td>40.802535</td>\n",
       "      <td>-73.953242</td>\n",
       "      <td>3360.0</td>\n",
       "      <td>Amsterdam Ave &amp; W 79 St</td>\n",
       "      <td>40.782939</td>\n",
       "      <td>-73.978652</td>\n",
       "      <td>17947</td>\n",
       "      <td>Customer</td>\n",
       "      <td>1969</td>\n",
       "      <td>0</td>\n",
       "    </tr>\n",
       "    <tr>\n",
       "      <th>667440</th>\n",
       "      <td>2584590</td>\n",
       "      <td>2019-08-09 17:47:28.6360</td>\n",
       "      <td>2019-09-08 15:43:58.9520</td>\n",
       "      <td>501.0</td>\n",
       "      <td>FDR Drive &amp; E 35 St</td>\n",
       "      <td>40.744219</td>\n",
       "      <td>-73.971212</td>\n",
       "      <td>356.0</td>\n",
       "      <td>Bialystoker Pl &amp; Delancey St</td>\n",
       "      <td>40.716226</td>\n",
       "      <td>-73.982612</td>\n",
       "      <td>29036</td>\n",
       "      <td>Subscriber</td>\n",
       "      <td>1983</td>\n",
       "      <td>2</td>\n",
       "    </tr>\n",
       "    <tr>\n",
       "      <th>679106</th>\n",
       "      <td>2578232</td>\n",
       "      <td>2019-08-09 19:34:51.7360</td>\n",
       "      <td>2019-09-08 15:45:23.9810</td>\n",
       "      <td>528.0</td>\n",
       "      <td>2 Ave &amp; E 31 St</td>\n",
       "      <td>40.742909</td>\n",
       "      <td>-73.977061</td>\n",
       "      <td>356.0</td>\n",
       "      <td>Bialystoker Pl &amp; Delancey St</td>\n",
       "      <td>40.716226</td>\n",
       "      <td>-73.982612</td>\n",
       "      <td>19511</td>\n",
       "      <td>Subscriber</td>\n",
       "      <td>1993</td>\n",
       "      <td>2</td>\n",
       "    </tr>\n",
       "  </tbody>\n",
       "</table>\n",
       "</div>"
      ],
      "text/plain": [
       "        tripduration                 starttime                  stoptime  \\\n",
       "189706       3812666  2019-08-03 11:31:37.2370  2019-09-16 14:36:03.3340   \n",
       "385277       3341929  2019-08-05 19:53:13.6550  2019-09-13 12:12:02.9690   \n",
       "397609       2704549  2019-08-06 02:43:44.4590  2019-09-06 09:59:33.9580   \n",
       "667440       2584590  2019-08-09 17:47:28.6360  2019-09-08 15:43:58.9520   \n",
       "679106       2578232  2019-08-09 19:34:51.7360  2019-09-08 15:45:23.9810   \n",
       "\n",
       "        start station id                   start station name  \\\n",
       "189706             453.0                      W 22 St & 8 Ave   \n",
       "385277            3349.0     Grand Army Plaza & Plaza St West   \n",
       "397609            3511.0  Adam Clayton Powell Blvd & W 115 St   \n",
       "667440             501.0                  FDR Drive & E 35 St   \n",
       "679106             528.0                      2 Ave & E 31 St   \n",
       "\n",
       "        start station latitude  start station longitude  end station id  \\\n",
       "189706               40.744751               -73.999154          3245.0   \n",
       "385277               40.672968               -73.970880          3585.0   \n",
       "397609               40.802535               -73.953242          3360.0   \n",
       "667440               40.744219               -73.971212           356.0   \n",
       "679106               40.742909               -73.977061           356.0   \n",
       "\n",
       "                    end station name  end station latitude  \\\n",
       "189706        NYCBS DEPOT - DELANCEY             40.716444   \n",
       "385277        Union St & Bedford Ave             40.669178   \n",
       "397609       Amsterdam Ave & W 79 St             40.782939   \n",
       "667440  Bialystoker Pl & Delancey St             40.716226   \n",
       "679106  Bialystoker Pl & Delancey St             40.716226   \n",
       "\n",
       "        end station longitude  bikeid    usertype  birth year  gender  \n",
       "189706             -73.982331   39570    Customer        1996       2  \n",
       "385277             -73.955416   17551    Customer        1995       2  \n",
       "397609             -73.978652   17947    Customer        1969       0  \n",
       "667440             -73.982612   29036  Subscriber        1983       2  \n",
       "679106             -73.982612   19511  Subscriber        1993       2  "
      ]
     },
     "execution_count": 8,
     "metadata": {},
     "output_type": "execute_result"
    }
   ],
   "source": [
    "df.sort_values(by=['tripduration'], ascending=False).head()"
   ]
  },
  {
   "cell_type": "code",
   "execution_count": 3,
   "metadata": {},
   "outputs": [
    {
     "data": {
      "text/plain": [
       "tripduration                 int64\n",
       "starttime                   object\n",
       "stoptime                    object\n",
       "start station id           float64\n",
       "start station name          object\n",
       "start station latitude     float64\n",
       "start station longitude    float64\n",
       "end station id             float64\n",
       "end station name            object\n",
       "end station latitude       float64\n",
       "end station longitude      float64\n",
       "bikeid                       int64\n",
       "usertype                    object\n",
       "birth year                   int64\n",
       "gender                       int64\n",
       "dtype: object"
      ]
     },
     "execution_count": 3,
     "metadata": {},
     "output_type": "execute_result"
    }
   ],
   "source": [
    "# 2. Check the datatypes of your columns. \n",
    "df.dtypes"
   ]
  },
  {
   "cell_type": "code",
   "execution_count": 4,
   "metadata": {},
   "outputs": [],
   "source": [
    "# 3. Convert the 'tripduration' column to datetime datatype.\n",
    "df['tripduration'] = pd.to_datetime(df['tripduration'], unit='s')"
   ]
  },
  {
   "cell_type": "code",
   "execution_count": 5,
   "metadata": {},
   "outputs": [
    {
     "data": {
      "text/plain": [
       "tripduration               datetime64[ns]\n",
       "starttime                          object\n",
       "stoptime                           object\n",
       "start station id                  float64\n",
       "start station name                 object\n",
       "start station latitude            float64\n",
       "start station longitude           float64\n",
       "end station id                    float64\n",
       "end station name                   object\n",
       "end station latitude              float64\n",
       "end station longitude             float64\n",
       "bikeid                              int64\n",
       "usertype                           object\n",
       "birth year                          int64\n",
       "gender                              int64\n",
       "dtype: object"
      ]
     },
     "execution_count": 5,
     "metadata": {},
     "output_type": "execute_result"
    }
   ],
   "source": [
    "# 4. Check the datatypes of your columns. \n",
    "df.dtypes"
   ]
  },
  {
   "cell_type": "code",
   "execution_count": null,
   "metadata": {},
   "outputs": [],
   "source": [
    "# 5. Export the Dataframe as a new CSV file without the index.\n",
    "df.to_csv('Datasources/201908-citibike-tripdata-cleaned.csv', index=False)"
   ]
  }
 ],
 "metadata": {
  "kernelspec": {
   "display_name": "PythonData",
   "language": "python",
   "name": "pythondata"
  },
  "language_info": {
   "codemirror_mode": {
    "name": "ipython",
    "version": 3
   },
   "file_extension": ".py",
   "mimetype": "text/x-python",
   "name": "python",
   "nbconvert_exporter": "python",
   "pygments_lexer": "ipython3",
   "version": "3.7.13"
  }
 },
 "nbformat": 4,
 "nbformat_minor": 4
}
